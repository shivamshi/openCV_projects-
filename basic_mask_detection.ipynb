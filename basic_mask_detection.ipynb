{
 "cells": [
  {
   "cell_type": "code",
   "execution_count": 1,
   "id": "bc474ef7",
   "metadata": {},
   "outputs": [],
   "source": [
    "import cv2\n",
    "import matplotlib.pyplot as plt\n",
    "import numpy as np\n",
    "import glob"
   ]
  },
  {
   "cell_type": "code",
   "execution_count": 2,
   "id": "f89cf8d3",
   "metadata": {},
   "outputs": [],
   "source": [
    "face_cascade=cv2.CascadeClassifier(cv2.data.haarcascades + 'haarcascade_frontalface_default.xml')"
   ]
  },
  {
   "cell_type": "code",
   "execution_count": 3,
   "id": "08542fee",
   "metadata": {},
   "outputs": [],
   "source": [
    "def func(p):\n",
    "    path=glob.glob(p)\n",
    "    data=[]\n",
    "    for file in path:\n",
    "        try:\n",
    "            img=cv2.imread(file)\n",
    "            img=cv2.resize(img,(600,500))\n",
    "            gray=cv2.cvtColor(img,cv2.COLOR_BGR2GRAY)\n",
    "            faces = face_cascade.detectMultiScale(gray,scaleFactor=1.25,minNeighbors=5,minSize=(30, 30))\n",
    "            for x,y,w,h in faces:\n",
    "                cv2.rectangle(img,(x,y),(x+w,y+h),(100,200,0),3)\n",
    "                face=img[y:y+h,x:x+w,:]\n",
    "                face=cv2.resize(face,(100,100))\n",
    "                data.append(face)\n",
    "            #cv2.imshow('sdf',img)\n",
    "            #if cv2.waitKey(300) & 0xFF == 27:break\n",
    "        except: break\n",
    "    #cv2.destroyAllWindows()\n",
    "    return data\n"
   ]
  },
  {
   "cell_type": "code",
   "execution_count": 4,
   "id": "423892c5",
   "metadata": {},
   "outputs": [],
   "source": [
    "np.save('a.npy',func(\"C:/Users/pytho/Desktop/Train/Non Mask/*.jpg\"))\n",
    "no_mask=np.load('a.npy')\n",
    "np.save('b.npy',func(\"C:/Users/pytho/Desktop/Train/Mask/*.jpg\"))\n",
    "mask=np.load('b.npy')"
   ]
  },
  {
   "cell_type": "code",
   "execution_count": 5,
   "id": "7d80f7a1",
   "metadata": {},
   "outputs": [
    {
     "name": "stdout",
     "output_type": "stream",
     "text": [
      "(510, 100, 100, 3) (1101, 100, 100, 3)\n",
      "1101\n"
     ]
    }
   ],
   "source": [
    "print(mask.shape, no_mask.shape)\n",
    "print(len(no_mask))"
   ]
  },
  {
   "cell_type": "code",
   "execution_count": 6,
   "id": "e4fc5acf",
   "metadata": {},
   "outputs": [],
   "source": [
    "mask=mask.reshape(len(mask),100*100*3)\n",
    "no_mask=no_mask.reshape(len(no_mask),100*100*3)"
   ]
  },
  {
   "cell_type": "code",
   "execution_count": 7,
   "id": "751fb963",
   "metadata": {},
   "outputs": [
    {
     "data": {
      "text/plain": [
       "(1101, 30000)"
      ]
     },
     "execution_count": 7,
     "metadata": {},
     "output_type": "execute_result"
    }
   ],
   "source": [
    "no_mask.shape"
   ]
  },
  {
   "cell_type": "code",
   "execution_count": 8,
   "id": "a2607dcb",
   "metadata": {},
   "outputs": [
    {
     "data": {
      "text/plain": [
       "1611"
      ]
     },
     "execution_count": 8,
     "metadata": {},
     "output_type": "execute_result"
    }
   ],
   "source": [
    "x=np.r_[no_mask,mask]\n",
    "x.shape[0]"
   ]
  },
  {
   "cell_type": "code",
   "execution_count": 9,
   "id": "dba5ece9",
   "metadata": {},
   "outputs": [],
   "source": [
    "y=np.ones(x.shape[0])\n",
    "y[:len(no_mask)]=0.0"
   ]
  },
  {
   "cell_type": "code",
   "execution_count": 10,
   "id": "87bd1a7c",
   "metadata": {},
   "outputs": [
    {
     "data": {
      "text/plain": [
       "(1611, 30000)"
      ]
     },
     "execution_count": 10,
     "metadata": {},
     "output_type": "execute_result"
    }
   ],
   "source": [
    "#x_train,x_test,y_train,y_test=train_test_split(x,y,test_size=0.30)\n",
    "x_train=x\n",
    "y_train=y\n",
    "x_train.shape"
   ]
  },
  {
   "cell_type": "code",
   "execution_count": 11,
   "id": "059e7ae1",
   "metadata": {},
   "outputs": [],
   "source": [
    "np.save('a.npy',func(\"C:/Users/pytho/Desktop/Test/Non Mask/*.jpg\"))\n",
    "no_mask=np.load('a.npy')\n",
    "np.save('b.npy',func(\"C:/Users/pytho/Desktop/Test/Mask/*.jpg\"))\n",
    "mask=np.load('b.npy')"
   ]
  },
  {
   "cell_type": "code",
   "execution_count": 12,
   "id": "1a6b49b7",
   "metadata": {},
   "outputs": [
    {
     "name": "stdout",
     "output_type": "stream",
     "text": [
      "(13, 100, 100, 3) (98, 100, 100, 3)\n",
      "13\n"
     ]
    }
   ],
   "source": [
    "print(mask.shape, no_mask.shape)\n",
    "print(len(mask))"
   ]
  },
  {
   "cell_type": "code",
   "execution_count": 13,
   "id": "94fefada",
   "metadata": {},
   "outputs": [],
   "source": [
    "mask=mask.reshape(len(mask),100*100*3)\n",
    "no_mask=no_mask.reshape(len(no_mask),100*100*3)"
   ]
  },
  {
   "cell_type": "code",
   "execution_count": 14,
   "id": "338a18c9",
   "metadata": {},
   "outputs": [
    {
     "data": {
      "text/plain": [
       "111"
      ]
     },
     "execution_count": 14,
     "metadata": {},
     "output_type": "execute_result"
    }
   ],
   "source": [
    "m=np.r_[no_mask,mask]\n",
    "m.shape[0]"
   ]
  },
  {
   "cell_type": "code",
   "execution_count": 15,
   "id": "bbb66cd1",
   "metadata": {},
   "outputs": [],
   "source": [
    "n=np.ones(m.shape[0])\n",
    "n[:len(no_mask)]=0.0"
   ]
  },
  {
   "cell_type": "code",
   "execution_count": 16,
   "id": "9d8f1ab6",
   "metadata": {},
   "outputs": [],
   "source": [
    "x_test=m\n",
    "y_test=n"
   ]
  },
  {
   "cell_type": "code",
   "execution_count": 17,
   "id": "e370a6a7",
   "metadata": {},
   "outputs": [],
   "source": [
    "from sklearn.svm import SVC\n",
    "from sklearn.metrics import accuracy_score\n",
    "from sklearn.model_selection import train_test_split"
   ]
  },
  {
   "cell_type": "markdown",
   "id": "e9028a2c",
   "metadata": {},
   "source": [
    "from sklearn.ensemble import RandomForestClassifier\n",
    "r = RandomForestClassifier(n_estimators=600)\n",
    "r.fit(x_train,y_train)\n",
    "y_pred=r.predict(x_test)\n",
    "accuracy_score(y_test,y_pred)"
   ]
  },
  {
   "cell_type": "code",
   "execution_count": 19,
   "id": "bd76ea4f",
   "metadata": {},
   "outputs": [
    {
     "name": "stderr",
     "output_type": "stream",
     "text": [
      "C:\\Users\\pytho\\anaconda3\\lib\\site-packages\\sklearn\\linear_model\\_logistic.py:763: ConvergenceWarning: lbfgs failed to converge (status=1):\n",
      "STOP: TOTAL NO. of ITERATIONS REACHED LIMIT.\n",
      "\n",
      "Increase the number of iterations (max_iter) or scale the data as shown in:\n",
      "    https://scikit-learn.org/stable/modules/preprocessing.html\n",
      "Please also refer to the documentation for alternative solver options:\n",
      "    https://scikit-learn.org/stable/modules/linear_model.html#logistic-regression\n",
      "  n_iter_i = _check_optimize_result(\n"
     ]
    },
    {
     "data": {
      "text/plain": [
       "0.9819819819819819"
      ]
     },
     "execution_count": 19,
     "metadata": {},
     "output_type": "execute_result"
    }
   ],
   "source": [
    "from sklearn.linear_model import LogisticRegression\n",
    "logmodel = LogisticRegression()\n",
    "logmodel.fit(x_train,y_train)\n",
    "predictions = logmodel.predict(x_test)\n",
    "accuracy_score(y_test,y_pred)"
   ]
  },
  {
   "cell_type": "code",
   "execution_count": 20,
   "id": "164b42be",
   "metadata": {},
   "outputs": [
    {
     "data": {
      "text/plain": [
       "0.990990990990991"
      ]
     },
     "execution_count": 20,
     "metadata": {},
     "output_type": "execute_result"
    }
   ],
   "source": [
    "m=SVC()\n",
    "m.fit(x_train,y_train)\n",
    "y_pred=m.predict(x_test)\n",
    "accuracy_score(y_test,y_pred)"
   ]
  },
  {
   "cell_type": "code",
   "execution_count": 21,
   "id": "e690f9b6",
   "metadata": {},
   "outputs": [
    {
     "name": "stdout",
     "output_type": "stream",
     "text": [
      "              precision    recall  f1-score   support\n",
      "\n",
      "         0.0       0.99      1.00      0.99        98\n",
      "         1.0       1.00      0.92      0.96        13\n",
      "\n",
      "    accuracy                           0.99       111\n",
      "   macro avg       0.99      0.96      0.98       111\n",
      "weighted avg       0.99      0.99      0.99       111\n",
      "\n"
     ]
    }
   ],
   "source": [
    "from sklearn.metrics import classification_report,confusion_matrix\n",
    "print(classification_report(y_test,y_pred))"
   ]
  },
  {
   "cell_type": "code",
   "execution_count": 28,
   "id": "56d00302",
   "metadata": {},
   "outputs": [],
   "source": [
    "lol=1\n",
    "font=cv2.FONT_HERSHEY_COMPLEX\n",
    "d={1:'MASK',0:'No Mask'}"
   ]
  },
  {
   "cell_type": "code",
   "execution_count": 30,
   "id": "61db2fc4",
   "metadata": {},
   "outputs": [],
   "source": [
    "cap=cv2.VideoCapture(r'Videos/AA.mp4')\n",
    "#cap=cv2.VideoCapture(r'Downloads/fucking_awesome.mp4')\n",
    "#cap=cv2.VideoCapture(\"C:/Users/pytho/Downloads/Breda verdeeld over dragen mondkapjes Omroep Brabant_720P HD.mp4\")\n",
    "#cap=cv2.VideoCapture(r'Videos/video.mp4')\n",
    "#cap=cv2.VideoCapture(0)\n",
    "while (cap.isOpened()):\n",
    "    flag,img=cap.read()\n",
    "    try:\n",
    "        img=cv2.resize(img,(800,500))\n",
    "        gray=cv2.cvtColor(img,cv2.COLOR_BGR2GRAY)\n",
    "        #faces=face_cascade.detectMultiScale(gray,1.1,4)\n",
    "        faces = face_cascade.detectMultiScale(gray,scaleFactor=1.18,minNeighbors=5,minSize=(30, 30))\n",
    "        for x,y,w,h in faces:\n",
    "            cv2.rectangle(img,(x,y),(x+w,y+h),(255,255,255),4)\n",
    "            face=img[y:y+h,x:x+w,:]\n",
    "            face=cv2.resize(face,(100,100))\n",
    "            face=face.reshape(1,-1)\n",
    "            pred=logmodel.predict(face)[0]\n",
    "            n=d[int(pred)]\n",
    "            cv2.putText(img,n,(x,y),font,1,(0,0,255),2)\n",
    "        cv2.imshow('hell0_world',img)\n",
    "        if cv2.waitKey(lol) & 0xFF==27:\n",
    "            break\n",
    "    except: break\n",
    "cap.release()\n",
    "cv2.destroyAllWindows()"
   ]
  },
  {
   "cell_type": "code",
   "execution_count": null,
   "id": "140b9d79",
   "metadata": {},
   "outputs": [],
   "source": []
  },
  {
   "cell_type": "code",
   "execution_count": null,
   "id": "528454bf",
   "metadata": {},
   "outputs": [],
   "source": []
  }
 ],
 "metadata": {
  "kernelspec": {
   "display_name": "Python 3",
   "language": "python",
   "name": "python3"
  },
  "language_info": {
   "codemirror_mode": {
    "name": "ipython",
    "version": 3
   },
   "file_extension": ".py",
   "mimetype": "text/x-python",
   "name": "python",
   "nbconvert_exporter": "python",
   "pygments_lexer": "ipython3",
   "version": "3.8.8"
  }
 },
 "nbformat": 4,
 "nbformat_minor": 5
}
