{
 "cells": [
  {
   "cell_type": "code",
   "execution_count": 1,
   "id": "bc474ef7",
   "metadata": {},
   "outputs": [],
   "source": [
    "import cv2\n",
    "import matplotlib.pyplot as plt\n",
    "import numpy as np\n",
    "import glob"
   ]
  },
  {
   "cell_type": "code",
   "execution_count": 2,
   "id": "f89cf8d3",
   "metadata": {},
   "outputs": [],
   "source": [
    "face_cascade=cv2.CascadeClassifier(cv2.data.haarcascades + 'haarcascade_frontalface_default.xml')"
   ]
  },
  {
   "cell_type": "code",
   "execution_count": 3,
   "id": "a9c675bd",
   "metadata": {},
   "outputs": [
    {
     "data": {
      "text/plain": [
       "\"capture=cv2.VideoCapture(0)\\ndata=[]\\ndat=[]\\nwhile True:\\n    flag,img=capture.read()\\n    if flag:\\n        faces=face_cascade.detectMultiScale(img)\\n        for x,y,w,h in faces:\\n            cv2.rectangle(img,(x,y),(x+w,y+h),(0,255,0),4)\\n            face=img[y:y+h,x:x+w,:]\\n            face=cv2.resize(face,(100,100))\\n            #print(len(data))\\n            if len(data)<400:\\n                data.append(face)\\n        cv2.imshow('trainer',img)\\n        if cv2.waitKey(2)==27 or len(data)>=400: break\\ncapture.release()\\ncv2.destroyAllWindows()\\nnp.save('without_mask.npy',data)\""
      ]
     },
     "execution_count": 3,
     "metadata": {},
     "output_type": "execute_result"
    }
   ],
   "source": [
    "#for data training of without mask\n",
    "'''capture=cv2.VideoCapture(0)\n",
    "data=[]\n",
    "dat=[]\n",
    "while True:\n",
    "    flag,img=capture.read()\n",
    "    if flag:\n",
    "        faces=face_cascade.detectMultiScale(img)\n",
    "        for x,y,w,h in faces:\n",
    "            cv2.rectangle(img,(x,y),(x+w,y+h),(0,255,0),4)\n",
    "            face=img[y:y+h,x:x+w,:]\n",
    "            face=cv2.resize(face,(100,100))\n",
    "            #print(len(data))\n",
    "            if len(data)<400:\n",
    "                data.append(face)\n",
    "        cv2.imshow('trainer',img)\n",
    "        if cv2.waitKey(2)==27 or len(data)>=400: break\n",
    "capture.release()\n",
    "cv2.destroyAllWindows()\n",
    "np.save('without_mask.npy',data)'''"
   ]
  },
  {
   "cell_type": "code",
   "execution_count": 4,
   "id": "c25bf50b",
   "metadata": {},
   "outputs": [
    {
     "data": {
      "text/plain": [
       "\"capture=cv2.VideoCapture(0)\\ndata=[]\\nwhile True:\\n    flag,img=capture.read()\\n    if flag:\\n        faces=face_cascade.detectMultiScale(img)\\n        for x,y,w,h in faces:\\n            cv2.rectangle(img,(x,y),(x+w,y+h),(0,255,0),4)\\n            face=img[y:y+h,x:x+w,:]\\n            face=cv2.resize(face,(100,100))\\n            #print(len(data))\\n            if len(data)<400:\\n                data.append(face)\\n        cv2.imshow('trainer',img)\\n        if cv2.waitKey(2)==27 or len(data)>=400: break\\ncapture.release()\\ncv2.destroyAllWindows()\\n\""
      ]
     },
     "execution_count": 4,
     "metadata": {},
     "output_type": "execute_result"
    }
   ],
   "source": [
    "#for data training of with mask\n",
    "'''capture=cv2.VideoCapture(0)\n",
    "data=[]\n",
    "while True:\n",
    "    flag,img=capture.read()\n",
    "    if flag:\n",
    "        faces=face_cascade.detectMultiScale(img)\n",
    "        for x,y,w,h in faces:\n",
    "            cv2.rectangle(img,(x,y),(x+w,y+h),(0,255,0),4)\n",
    "            face=img[y:y+h,x:x+w,:]\n",
    "            face=cv2.resize(face,(100,100))\n",
    "            #print(len(data))\n",
    "            if len(data)<400:\n",
    "                data.append(face)\n",
    "        cv2.imshow('trainer',img)\n",
    "        if cv2.waitKey(2)==27 or len(data)>=400: break\n",
    "capture.release()\n",
    "cv2.destroyAllWindows()\n",
    "'''"
   ]
  },
  {
   "cell_type": "code",
   "execution_count": 5,
   "id": "1ca04d74",
   "metadata": {},
   "outputs": [],
   "source": [
    "path=glob.glob(\"C:/Users/pytho/Desktop/Mask/*.jpg\")\n",
    "data=[]\n",
    "for file in path:\n",
    "    img=cv2.imread(file)\n",
    "    faces=face_cascade.detectMultiScale(img)\n",
    "    for x,y,w,h in faces:\n",
    "        face=img[y:y+h,x:x+w,:]\n",
    "        face=cv2.resize(face,(100,100))\n",
    "        data.append(face)\n",
    "    #cv2.imshow('trainer',img)\n",
    "    #cv2.waitKey(2)==27: break\n",
    "#capture.release()\n"
   ]
  },
  {
   "cell_type": "code",
   "execution_count": 6,
   "id": "423892c5",
   "metadata": {},
   "outputs": [],
   "source": [
    "np.save('with_mask.npy',data)"
   ]
  },
  {
   "cell_type": "code",
   "execution_count": 7,
   "id": "7f6275d3",
   "metadata": {},
   "outputs": [],
   "source": [
    "#path=glob.glob(\"C:/Users/pytho/Desktop/Mask/*.jpg\")\n",
    "path=glob.glob(\"C:/Users/pytho/Desktop/Non Mask/*.jpg\")\n",
    "data=[]\n",
    "for file in path:\n",
    "    img=cv2.imread(file)\n",
    "    faces=face_cascade.detectMultiScale(img)\n",
    "    for x,y,w,h in faces:\n",
    "        face=img[y:y+h,x:x+w,:]\n",
    "        face=cv2.resize(face,(100,100))\n",
    "        data.append(face)\n",
    "np.save('without_mask.npy',data)"
   ]
  },
  {
   "cell_type": "code",
   "execution_count": 8,
   "id": "8bc36d5c",
   "metadata": {},
   "outputs": [],
   "source": [
    "no_mask=np.load('without_mask.npy')\n",
    "mask=np.load('with_mask.npy')"
   ]
  },
  {
   "cell_type": "code",
   "execution_count": 9,
   "id": "97fd514d",
   "metadata": {},
   "outputs": [
    {
     "data": {
      "text/plain": [
       "(318, 100, 100, 3)"
      ]
     },
     "execution_count": 9,
     "metadata": {},
     "output_type": "execute_result"
    }
   ],
   "source": [
    "no_mask.shape"
   ]
  },
  {
   "cell_type": "code",
   "execution_count": 10,
   "id": "b1b913ec",
   "metadata": {},
   "outputs": [
    {
     "data": {
      "text/plain": [
       "(379, 100, 100, 3)"
      ]
     },
     "execution_count": 10,
     "metadata": {},
     "output_type": "execute_result"
    }
   ],
   "source": [
    "mask.shape"
   ]
  },
  {
   "cell_type": "code",
   "execution_count": 11,
   "id": "e4fc5acf",
   "metadata": {},
   "outputs": [],
   "source": [
    "mask=mask.reshape(379,100*100*3)\n",
    "no_mask=no_mask.reshape(318,100*100*3)"
   ]
  },
  {
   "cell_type": "code",
   "execution_count": 12,
   "id": "751fb963",
   "metadata": {},
   "outputs": [
    {
     "data": {
      "text/plain": [
       "(318, 30000)"
      ]
     },
     "execution_count": 12,
     "metadata": {},
     "output_type": "execute_result"
    }
   ],
   "source": [
    "no_mask.shape"
   ]
  },
  {
   "cell_type": "code",
   "execution_count": 13,
   "id": "a2607dcb",
   "metadata": {},
   "outputs": [
    {
     "data": {
      "text/plain": [
       "697"
      ]
     },
     "execution_count": 13,
     "metadata": {},
     "output_type": "execute_result"
    }
   ],
   "source": [
    "x=np.r_[no_mask,mask]\n",
    "x.shape[0]"
   ]
  },
  {
   "cell_type": "code",
   "execution_count": 14,
   "id": "dba5ece9",
   "metadata": {},
   "outputs": [],
   "source": [
    "y=np.ones(x.shape[0])\n",
    "y[:348]=0.0"
   ]
  },
  {
   "cell_type": "code",
   "execution_count": 15,
   "id": "b48ca9a4",
   "metadata": {},
   "outputs": [],
   "source": [
    "d={1:'Mask',0:'No mask'}"
   ]
  },
  {
   "cell_type": "code",
   "execution_count": 16,
   "id": "e370a6a7",
   "metadata": {},
   "outputs": [],
   "source": [
    "from sklearn.svm import SVC\n",
    "from sklearn.metrics import accuracy_score\n",
    "from sklearn.model_selection import train_test_split"
   ]
  },
  {
   "cell_type": "code",
   "execution_count": 17,
   "id": "87bd1a7c",
   "metadata": {},
   "outputs": [
    {
     "data": {
      "text/plain": [
       "(487, 30000)"
      ]
     },
     "execution_count": 17,
     "metadata": {},
     "output_type": "execute_result"
    }
   ],
   "source": [
    "x_train,x_test,y_train,y_test=train_test_split(x,y,test_size=0.30)\n",
    "x_train.shape"
   ]
  },
  {
   "cell_type": "code",
   "execution_count": 18,
   "id": "e79258a0",
   "metadata": {},
   "outputs": [
    {
     "data": {
      "text/plain": [
       "0.8523809523809524"
      ]
     },
     "execution_count": 18,
     "metadata": {},
     "output_type": "execute_result"
    }
   ],
   "source": [
    "m=SVC()\n",
    "m.fit(x_train,y_train)\n",
    "y_pred=m.predict(x_test)\n",
    "accuracy_score(y_test,y_pred)"
   ]
  },
  {
   "cell_type": "code",
   "execution_count": 19,
   "id": "d059706e",
   "metadata": {},
   "outputs": [],
   "source": [
    "haar_data=cv2.CascadeClassifier(cv2.data.haarcascades + 'haarcascade_frontalface_default.xml')\n",
    "eye_cascade=cv2.CascadeClassifier(cv2.data.haarcascades+'haarcascade_eye.xml')"
   ]
  },
  {
   "cell_type": "code",
   "execution_count": 35,
   "id": "61db2fc4",
   "metadata": {},
   "outputs": [],
   "source": [
    "cap=cv2.VideoCapture(r'Videos/AA.mp4')\n",
    "#cap=cv2.VideoCapture(r'Downloads/fucking_awesome.mp4')\n",
    "data=[]\n",
    "lol=1\n",
    "font=cv2.FONT_HERSHEY_COMPLEX\n",
    "while (cap.isOpened()):\n",
    "    flag,img=cap.read()\n",
    "    img=cv2.resize(img,(700,500))\n",
    "    if flag:\n",
    "        faces=haar_data.detectMultiScale(img)\n",
    "        for x,y,w,h in faces:\n",
    "            cv2.rectangle(img,(x,y),(x+w,y+h),(255,0,0),4)\n",
    "            face=img[y:y+h,x:x+w,:]\n",
    "            face=cv2.resize(face,(100,100))\n",
    "            face=face.reshape(1,-1)\n",
    "            pred=m.predict(face)[0]\n",
    "            n=d[int(pred)]\n",
    "            cv2.putText(img,n,(x,y),font,1,(0,0,255),2)\n",
    "            #print(n)\n",
    "        cv2.imshow('hell0_world',img)\n",
    "        if cv2.waitKey(lol) & 0xFF==27:\n",
    "            break\n",
    "\n",
    "cap.release()\n",
    "cv2.destroyAllWindows()"
   ]
  },
  {
   "cell_type": "code",
   "execution_count": null,
   "id": "be3694f7",
   "metadata": {},
   "outputs": [],
   "source": []
  },
  {
   "cell_type": "code",
   "execution_count": null,
   "id": "6caf844c",
   "metadata": {},
   "outputs": [],
   "source": []
  }
 ],
 "metadata": {
  "kernelspec": {
   "display_name": "Python 3",
   "language": "python",
   "name": "python3"
  },
  "language_info": {
   "codemirror_mode": {
    "name": "ipython",
    "version": 3
   },
   "file_extension": ".py",
   "mimetype": "text/x-python",
   "name": "python",
   "nbconvert_exporter": "python",
   "pygments_lexer": "ipython3",
   "version": "3.8.8"
  }
 },
 "nbformat": 4,
 "nbformat_minor": 5
}
