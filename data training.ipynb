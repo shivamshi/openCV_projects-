{
 "cells": [
  {
   "cell_type": "code",
   "execution_count": 1,
   "id": "5c0d7c26",
   "metadata": {},
   "outputs": [],
   "source": [
    "import cv2\n",
    "import matplotlib.pyplot as plt\n",
    "import numpy as np\n",
    "import glob"
   ]
  },
  {
   "cell_type": "code",
   "execution_count": 2,
   "id": "ba34ec7b",
   "metadata": {},
   "outputs": [],
   "source": [
    "face_cascade=cv2.CascadeClassifier(cv2.data.haarcascades + 'haarcascade_frontalface_default.xml')"
   ]
  },
  {
   "cell_type": "code",
   "execution_count": 3,
   "id": "c2864d67",
   "metadata": {},
   "outputs": [],
   "source": [
    "def func(p):\n",
    "    path=glob.glob(p)\n",
    "    data=[]\n",
    "    for file in path:\n",
    "        try:\n",
    "            img=cv2.imread(file)\n",
    "            img=cv2.resize(img,(600,500))\n",
    "            gray=cv2.cvtColor(img,cv2.COLOR_BGR2GRAY)\n",
    "            faces = face_cascade.detectMultiScale(gray,scaleFactor=1.25,minNeighbors=5,minSize=(30, 30))\n",
    "            for x,y,w,h in faces:\n",
    "                cv2.rectangle(img,(x,y),(x+w,y+h),(100,200,0),3)\n",
    "                face=img[y:y+h,x:x+w,:]\n",
    "                face=cv2.resize(face,(100,100))\n",
    "                data.append(face)\n",
    "            #cv2.imshow('sdf',img)\n",
    "            #if cv2.waitKey(300) & 0xFF == 27:break\n",
    "        except: break\n",
    "    #cv2.destroyAllWindows()\n",
    "    return data\n"
   ]
  },
  {
   "cell_type": "code",
   "execution_count": 20,
   "id": "4e7abeab",
   "metadata": {},
   "outputs": [],
   "source": [
    "np.save('a.npy',func(\"C:/Users/pytho/Desktop/Train/Non Mask/*.jpg\"))\n",
    "no_mask=np.load('a.npy')"
   ]
  },
  {
   "cell_type": "code",
   "execution_count": 21,
   "id": "37da22bb",
   "metadata": {},
   "outputs": [],
   "source": [
    "np.save('b.npy',func(\"C:/Users/pytho/Desktop/Train/Mask/*.jpg\"))\n",
    "mask=np.load('b.npy')"
   ]
  },
  {
   "cell_type": "code",
   "execution_count": 23,
   "id": "5ac6b4da",
   "metadata": {},
   "outputs": [
    {
     "name": "stdout",
     "output_type": "stream",
     "text": [
      "255 550\n"
     ]
    }
   ],
   "source": [
    "mask=mask.reshape(len(mask),100*100*3)\n",
    "mask=mask[:len(mask)//2]         #reducing to half to upload easily on github\n",
    "no_mask=no_mask.reshape(len(no_mask),100*100*3)\n",
    "no_mask=no_mask[:len(no_mask)//2]\n",
    "print(len(mask),len(no_mask))"
   ]
  },
  {
   "cell_type": "code",
   "execution_count": 24,
   "id": "4c4dba01",
   "metadata": {},
   "outputs": [],
   "source": [
    "TRAIN=np.r_[no_mask,mask]\n",
    "TEST=np.ones(TRAIN.shape[0])\n",
    "TEST[:len(no_mask)]=0.0"
   ]
  },
  {
   "cell_type": "code",
   "execution_count": 25,
   "id": "2b300ebb",
   "metadata": {},
   "outputs": [
    {
     "name": "stdout",
     "output_type": "stream",
     "text": [
      "805 805\n"
     ]
    }
   ],
   "source": [
    "print(len(TRAIN),len(TEST))"
   ]
  },
  {
   "cell_type": "code",
   "execution_count": 26,
   "id": "e679ab57",
   "metadata": {},
   "outputs": [
    {
     "data": {
      "text/plain": [
       "numpy.ndarray"
      ]
     },
     "execution_count": 26,
     "metadata": {},
     "output_type": "execute_result"
    }
   ],
   "source": [
    "type(TRAIN)"
   ]
  },
  {
   "cell_type": "code",
   "execution_count": 27,
   "id": "16cbcf19",
   "metadata": {},
   "outputs": [],
   "source": [
    "np.save('train.npy',TRAIN)\n",
    "np.save('test.npy',TEST)"
   ]
  },
  {
   "cell_type": "code",
   "execution_count": null,
   "id": "c6eeb1a2",
   "metadata": {},
   "outputs": [],
   "source": []
  }
 ],
 "metadata": {
  "kernelspec": {
   "display_name": "Python 3",
   "language": "python",
   "name": "python3"
  },
  "language_info": {
   "codemirror_mode": {
    "name": "ipython",
    "version": 3
   },
   "file_extension": ".py",
   "mimetype": "text/x-python",
   "name": "python",
   "nbconvert_exporter": "python",
   "pygments_lexer": "ipython3",
   "version": "3.8.8"
  }
 },
 "nbformat": 4,
 "nbformat_minor": 5
}
